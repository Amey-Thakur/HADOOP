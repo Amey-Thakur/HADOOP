{
  "nbformat": 4,
  "nbformat_minor": 0,
  "metadata": {
    "colab": {
      "name": "Hadoop.ipynb",
      "provenance": [],
      "include_colab_link": true
    },
    "kernelspec": {
      "name": "python3",
      "display_name": "Python 3"
    },
    "language_info": {
      "name": "python"
    }
  },
  "cells": [
    {
      "cell_type": "markdown",
      "metadata": {
        "id": "view-in-github",
        "colab_type": "text"
      },
      "source": [
        "<a href=\"https://colab.research.google.com/github/Amey-Thakur/HADOOP/blob/main/HADOOP.ipynb\" target=\"_parent\"><img src=\"https://colab.research.google.com/assets/colab-badge.svg\" alt=\"Open In Colab\"/></a>"
      ]
    },
    {
      "cell_type": "code",
      "metadata": {
        "id": "bS3PVG7Cbjlw"
      },
      "source": [
        "# Install java\n",
        "!apt-get install openjdk-8-jdk-headless -qq > /dev/null"
      ],
      "execution_count": null,
      "outputs": []
    },
    {
      "cell_type": "code",
      "metadata": {
        "id": "3R8Had9fdMZB"
      },
      "source": [
        "# Install spark (change the version number if needed)\n",
        "!wget -q https://archive.apache.org/dist/spark/spark-3.0.0/spark-3.0.0-bin-hadoop3.2.tgz"
      ],
      "execution_count": null,
      "outputs": []
    },
    {
      "cell_type": "code",
      "metadata": {
        "id": "DW8h2LsQdcP6"
      },
      "source": [
        "# Unzip the spark file to the current folder\n",
        "!tar xf spark-3.0.0-bin-hadoop3.2.tgz"
      ],
      "execution_count": null,
      "outputs": []
    },
    {
      "cell_type": "code",
      "metadata": {
        "id": "CaXbR-cRdftw"
      },
      "source": [
        "# Set your spark folder to your system path environment. \n",
        "import os\n",
        "os.environ[\"JAVA_HOME\"] = \"/usr/lib/jvm/java-8-openjdk-amd64\"\n",
        "os.environ[\"SPARK_HOME\"] = \"/content/spark-3.0.0-bin-hadoop3.2\""
      ],
      "execution_count": null,
      "outputs": []
    },
    {
      "cell_type": "code",
      "metadata": {
        "id": "UB5n8MmKdmKb"
      },
      "source": [
        "# Install findspark using pip\n",
        "!pip install -q findspark"
      ],
      "execution_count": null,
      "outputs": []
    },
    {
      "cell_type": "code",
      "metadata": {
        "colab": {
          "base_uri": "https://localhost:8080/"
        },
        "id": "5MiXlwPLdp6h",
        "outputId": "bfe67351-2db3-42a6-bde7-7685e5c12ed8"
      },
      "source": [
        "# Spark for Python\n",
        "!pip install pyspark"
      ],
      "execution_count": null,
      "outputs": [
        {
          "output_type": "stream",
          "name": "stdout",
          "text": [
            "Collecting pyspark\n",
            "  Downloading pyspark-3.1.2.tar.gz (212.4 MB)\n",
            "\u001b[K     |████████████████████████████████| 212.4 MB 64 kB/s \n",
            "\u001b[?25hCollecting py4j==0.10.9\n",
            "  Downloading py4j-0.10.9-py2.py3-none-any.whl (198 kB)\n",
            "\u001b[K     |████████████████████████████████| 198 kB 45.2 MB/s \n",
            "\u001b[?25hBuilding wheels for collected packages: pyspark\n",
            "  Building wheel for pyspark (setup.py) ... \u001b[?25l\u001b[?25hdone\n",
            "  Created wheel for pyspark: filename=pyspark-3.1.2-py2.py3-none-any.whl size=212880768 sha256=ee9739be5d07f664bf942f040f01a447f00100fff101c844eac0a638df6c3cc4\n",
            "  Stored in directory: /root/.cache/pip/wheels/a5/0a/c1/9561f6fecb759579a7d863dcd846daaa95f598744e71b02c77\n",
            "Successfully built pyspark\n",
            "Installing collected packages: py4j, pyspark\n",
            "Successfully installed py4j-0.10.9 pyspark-3.1.2\n"
          ]
        }
      ]
    },
    {
      "cell_type": "code",
      "metadata": {
        "colab": {
          "base_uri": "https://localhost:8080/"
        },
        "id": "R1FjCOBZl3dt",
        "outputId": "d15775b5-846e-44d1-9ce7-73f42cfcbb3a"
      },
      "source": [
        "pip install map"
      ],
      "execution_count": null,
      "outputs": [
        {
          "output_type": "stream",
          "name": "stdout",
          "text": [
            "Collecting map\n",
            "  Downloading map-1.3.0-py2.py3-none-any.whl (13 kB)\n",
            "Installing collected packages: map\n",
            "Successfully installed map-1.3.0\n"
          ]
        }
      ]
    },
    {
      "cell_type": "code",
      "metadata": {
        "colab": {
          "base_uri": "https://localhost:8080/"
        },
        "id": "7DZllS0km43c",
        "outputId": "e84ca1d1-7944-4d7f-a45a-8f46d1325f9b"
      },
      "source": [
        "%cat input.txt"
      ],
      "execution_count": null,
      "outputs": [
        {
          "output_type": "stream",
          "name": "stdout",
          "text": [
            "A,0,0,63\n",
            "A,0,1,45\n",
            "A,0,2,93\n",
            "A,0,3,32\n",
            "A,0,4,49\n",
            "A,1,0,33\n",
            "A,1,3,26\n",
            "A,1,4,95\n",
            "A,2,0,25\n",
            "A,2,1,11\n",
            "A,2,3,60\n",
            "A,2,4,89\n",
            "A,3,0,24\n",
            "A,3,1,79\n",
            "A,3,2,24\n",
            "A,3,3,47\n",
            "A,3,4,18\n",
            "A,4,0,7\n",
            "A,4,1,98\n",
            "A,4,2,96\n",
            "A,4,3,27\n",
            "B,0,0,63\n",
            "B,0,1,18\n",
            "B,0,2,89\n",
            "B,0,3,28\n",
            "B,0,4,39\n",
            "B,1,0,59\n",
            "B,1,1,76\n",
            "B,1,2,34\n",
            "B,1,3,12\n",
            "B,1,4,6\n",
            "B,2,0,30\n",
            "B,2,1,52\n",
            "B,2,2,49\n",
            "B,2,3,3\n",
            "B,2,4,95\n",
            "B,3,0,77\n",
            "B,3,1,75\n",
            "B,3,2,85\n",
            "B,4,1,46\n",
            "B,4,2,33\n",
            "B,4,3,69\n",
            "B,4,4,88\n"
          ]
        }
      ]
    },
    {
      "cell_type": "code",
      "metadata": {
        "colab": {
          "base_uri": "https://localhost:8080/"
        },
        "id": "xLJVShcIo68L",
        "outputId": "aa531d2a-4b2a-44fd-f902-64dcbcf86144"
      },
      "source": [
        "%cat input.txt | python mapper.py | sort | python reducer.py"
      ],
      "execution_count": null,
      "outputs": [
        {
          "output_type": "stream",
          "name": "stdout",
          "text": [
            "0,0,11878\n",
            "0,1,14044\n",
            "0,2,16031\n",
            "0,3,5964\n",
            "0,4,15874\n",
            "1,0,4081\n",
            "1,1,6914\n",
            "1,2,8282\n",
            "1,3,7479\n",
            "1,4,9647\n",
            "2,0,6844\n",
            "2,1,9880\n",
            "2,2,10636\n",
            "2,3,6973\n",
            "2,4,8873\n",
            "3,0,10512\n",
            "3,1,12037\n",
            "3,2,10587\n",
            "3,3,2934\n",
            "3,4,5274\n",
            "4,0,11182\n",
            "4,1,14591\n",
            "4,2,10954\n",
            "4,3,1660\n",
            "4,4,9981\n"
          ]
        }
      ]
    }
  ]
}